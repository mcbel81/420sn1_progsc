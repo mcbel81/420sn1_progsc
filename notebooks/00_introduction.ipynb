{
 "cells": [
  {
   "attachments": {},
   "cell_type": "markdown",
   "metadata": {},
   "source": [
    "# Introduction\n",
    "\n",
    "Bienvenue dans le cours de Programmation en sciences (420-SN1-RE)!\n",
    "\n",
    "Ce cours a pour but de vous initier à la programmation. Le langage utilisé sera Python. Vous apprendrez à utiliser les bases du langage de programmation **Python** pour manipuler des données, créer des graphiques et effectuer des calculs. Vous apprendrez également à utiliser des modules spécialisées pour effectuer des tâches plus complexes.\n",
    "\n",
    "Python est un langage de programmation très populaire. Il est utilisé dans de nombreux domaines, notamment dans la science des données, l'analyse de données, l'ingénierie, la recherche, l'automatisation des tâches, etc. Il est également très populaire dans l'enseignement de la programmation.\n",
    "\n",
    "# Objectifs\n",
    "\n",
    "Les objectifs généraux du cours sont les suivants :\n",
    "1. Planifier l’automatisation de la résolution d’un problème\n",
    "2. Coder l’algorithme dans le langage de programmation\n",
    "3. Vérifier le bon fonctionnement du programme.\n",
    "\n"
   ]
  },
  {
   "attachments": {},
   "cell_type": "markdown",
   "metadata": {},
   "source": [
    "[Retour à la tables des matières](../README.md)"
   ]
  }
 ],
 "metadata": {
  "language_info": {
   "name": "python"
  },
  "orig_nbformat": 4
 },
 "nbformat": 4,
 "nbformat_minor": 2
}
