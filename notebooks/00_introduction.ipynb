{
 "cells": [
  {
   "attachments": {},
   "cell_type": "markdown",
   "metadata": {},
   "source": [
    "# Introduction\n",
    "\n",
    "Bienvenue dans le cours de Programmation en sciences (420-SN1-RE)!\n",
    "\n",
    "Ce cours a pour but de vous initier à la programmation. Le langage utilisé sera Python. Vous apprendrez à utiliser les outils de base de Python pour manipuler des données, créer des graphiques et effectuer des calculs. Vous apprendrez également à utiliser des modules spécialisées pour effectuer des tâches plus complexes.\n",
    "\n",
    "Python est un langage de programmation très populaire. Il est utilisé dans de nombreux domaines, notamment dans la science des données, l'analyse de données, l'ingénierie, la recherche, l'automatisation des tâches, etc. Il est également très populaire dans l'enseignement de la programmation.\n",
    "\n",
    "# Objectifs\n",
    "\n",
    "Les objectifs généraux du cours sont les suivants :\n",
    "1. Planifier l’automatisation de la résolution d’un problème\n",
    "2. Coder l’algorithme dans le langage de programmation\n",
    "3. Vérifier le bon fonctionnement du programme.\n",
    "\n"
   ]
  },
  {
   "attachments": {},
   "cell_type": "markdown",
   "metadata": {},
   "source": [
    "# Les intrants et les extrants\n",
    "\n",
    "Dans un programme informatique, les intrants (ou entrées) et les extrants (ou sorties) sont des éléments importants pour résoudre un problème. Ils représentent les données qui sont utilisées par le programme pour produire un résultat.\n",
    "\n",
    "Les intrants sont les données d'entrée qui sont fournies au programme pour résoudre un problème. Ce sont les données que le programme doit traiter pour produire un résultat. Par exemple, si vous écrivez un programme pour calculer la moyenne des notes d'un étudiant, les notes seraient les intrants.\n",
    "\n",
    "Les extrants sont les données de sortie produites par le programme après le traitement des intrants. Ce sont les données qui sont produites par le programme en réponse au problème posé. Par exemple, si vous écrivez un programme pour calculer la moyenne des notes d'un étudiant, la moyenne calculée serait l'extrant.\n",
    "\n",
    "Lors de la résolution d'un problème avec un programme informatique, il est important de bien comprendre les intrants et les extrants pour s'assurer que le programme résout correctement le problème posé.\n",
    "\n",
    "Voici quelques exemples pour illustrer l'utilisation des intrants et des extrants :\n",
    "\n",
    "Exemple 1 : Calcul de la somme de deux nombres\n",
    "\n",
    "- Intrants : Deux nombres, x et y\n",
    "- Extrants : La somme des deux nombres, x + y\n",
    "\n",
    "Exemple 2 : Vérification de la validité d'un mot de passe\n",
    "\n",
    "- Intrants : Un mot de passe entré par l'utilisateur\n",
    "- Extrants : Un message indiquant si le mot de passe est valide ou non\n",
    "\n",
    "Exemple 3 : Conversion de Celsius en Fahrenheit\n",
    "\n",
    "- Intrants : Une température en Celsius\n",
    "- Extrants : La température équivalente en Fahrenheit\n",
    "\n",
    "En conclusion, les intrants et les extrants sont des éléments clés dans la résolution d'un problème avec un programme informatique. Les intrants représentent les données d'entrée fournies au programme pour résoudre le problème, tandis que les extrants représentent les données de sortie produites par le programme en réponse au problème posé. Une bonne compréhension des intrants et des extrants est essentielle pour concevoir des programmes efficaces et pour résoudre les problèmes de manière précise et rigoureuse."
   ]
  }
 ],
 "metadata": {
  "language_info": {
   "name": "python"
  },
  "orig_nbformat": 4
 },
 "nbformat": 4,
 "nbformat_minor": 2
}
